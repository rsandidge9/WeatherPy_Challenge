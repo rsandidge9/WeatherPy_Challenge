{
 "cells": [
  {
   "cell_type": "markdown",
   "metadata": {},
   "source": [
    "# WeatherPy\n",
    "----\n",
    "\n",
    "#### Note\n",
    "* Instructions have been included for each segment. You do not have to follow them exactly, but they are included to help you think through the steps."
   ]
  },
  {
   "cell_type": "code",
   "execution_count": 1,
   "metadata": {},
   "outputs": [],
   "source": [
    "# Dependencies and Setup\n",
    "import matplotlib.pyplot as plt\n",
    "import pandas as pd\n",
    "import numpy as np\n",
    "import requests\n",
    "import json\n",
    "import time\n",
    "from scipy.stats import linregress"
   ]
  },
  {
   "cell_type": "code",
   "execution_count": 2,
   "metadata": {
    "scrolled": true
   },
   "outputs": [],
   "source": [
    "# Incorporated citipy to determine city based on latitude and longitude\n",
    "from citipy import citipy\n",
    "\n",
    "# Output File (CSV)\n",
    "output_data_file = \"output_data/cities.csv\""
   ]
  },
  {
   "cell_type": "code",
   "execution_count": 3,
   "metadata": {},
   "outputs": [],
   "source": [
    "# Range of latitudes and longitudes\n",
    "lat_range = (-90, 90)\n",
    "lng_range = (-180, 180)"
   ]
  },
  {
   "cell_type": "markdown",
   "metadata": {},
   "source": [
    "## Generate Cities List"
   ]
  },
  {
   "cell_type": "code",
   "execution_count": 4,
   "metadata": {},
   "outputs": [],
   "source": [
    "# List for holding lat_lngs and cities\n",
    "lat_lngs = []\n",
    "cities = []\n",
    "countries = []\n"
   ]
  },
  {
   "cell_type": "code",
   "execution_count": 5,
   "metadata": {},
   "outputs": [
    {
     "data": {
      "text/plain": [
       "596"
      ]
     },
     "execution_count": 5,
     "metadata": {},
     "output_type": "execute_result"
    }
   ],
   "source": [
    "# Create a set of random lat and lng combinations\n",
    "lats = np.random.uniform(lat_range[0], lat_range[1], size=1500)\n",
    "lngs = np.random.uniform(lng_range[0], lng_range[1], size=1500)\n",
    "lat_lngs = zip(lats, lngs)\n",
    "\n",
    "# Identify nearest city for each lat, lng combination\n",
    "for lat_lng in lat_lngs:\n",
    "    city = citipy.nearest_city(lat_lng[0], lat_lng[1]).city_name\n",
    "    country = citipy.nearest_city(lat_lng[0], lat_lng[1]).country_code\n",
    "    \n",
    "    # If the city is unique, then add it to a our cities list\n",
    "    if city not in cities:\n",
    "        cities.append(city)\n",
    "        countries.append(country)\n",
    "city_country = zip(cities,countries)\n",
    "# Print the city count to confirm sufficient count\n",
    "len(cities)"
   ]
  },
  {
   "cell_type": "markdown",
   "metadata": {},
   "source": [
    "### Perform API Calls\n",
    "* Perform a weather check on each city using a series of successive API calls.\n",
    "* Include a print log of each city as it'sbeing processed (with the city number and city name).\n"
   ]
  },
  {
   "cell_type": "code",
   "execution_count": 6,
   "metadata": {},
   "outputs": [],
   "source": [
    "# Import API key\n",
    "from api_keys import weather_api_key\n",
    "#print(weather_api_key)\n",
    "url = \"http://api.openweathermap.org/data/2.5/weather?units=Imperial&APPID=\" + weather_api_key\n",
    "#weather_response = requests.get(query_url)\n",
    "#weather_json = weather_response.json()"
   ]
  },
  {
   "cell_type": "code",
   "execution_count": 7,
   "metadata": {},
   "outputs": [
    {
     "name": "stdout",
     "output_type": "stream",
     "text": [
      "Start of list\n",
      "City number 1 of 596complete. | Added ushuaia\n",
      "City number 2 of 596complete. | Added novosheshminsk\n",
      "City number 3 of 596complete. | Added anloga\n",
      "City number 4 of 596complete. | Added arraial do cabo\n",
      "City number 5 of 596complete. | Added okakarara\n",
      "City number 6 of 596complete. | Added port elizabeth\n",
      "City number 7 of 596complete. | Added hasaki\n",
      "City number 8 of 596complete. | Added narsaq\n",
      "Missing data in city number 9 of 596. | Skipping taolanaro\n",
      "City number 10 of 596complete. | Added kaeo\n",
      "City number 11 of 596complete. | Added rikitea\n",
      "City number 12 of 596complete. | Added punta arenas\n",
      "City number 13 of 596complete. | Added bredasdorp\n",
      "City number 14 of 596complete. | Added vaini\n",
      "City number 15 of 596complete. | Added sao joao da barra\n",
      "City number 16 of 596complete. | Added albany\n",
      "City number 17 of 596complete. | Added linden\n",
      "City number 18 of 596complete. | Added mao\n",
      "City number 19 of 596complete. | Added tasiilaq\n",
      "City number 20 of 596complete. | Added severo-kurilsk\n",
      "City number 21 of 596complete. | Added kodiak\n",
      "City number 22 of 596complete. | Added puerto ayora\n",
      "City number 23 of 596complete. | Added canoinhas\n",
      "City number 24 of 596complete. | Added bintulu\n",
      "City number 25 of 596complete. | Added barrow\n",
      "City number 26 of 596complete. | Added presidencia roque saenz pena\n",
      "City number 27 of 596complete. | Added mataura\n",
      "City number 28 of 596complete. | Added kahului\n",
      "City number 29 of 596complete. | Added samana\n",
      "City number 30 of 596complete. | Added hilo\n",
      "City number 31 of 596complete. | Added gorlice\n",
      "Missing data in city number 32 of 596. | Skipping illoqqortoormiut\n",
      "City number 33 of 596complete. | Added torbay\n",
      "City number 34 of 596complete. | Added tocopilla\n",
      "City number 35 of 596complete. | Added namatanai\n",
      "City number 36 of 596complete. | Added najran\n",
      "City number 37 of 596complete. | Added bethel\n",
      "City number 38 of 596complete. | Added dikson\n",
      "City number 39 of 596complete. | Added agadez\n",
      "City number 40 of 596complete. | Added chokurdakh\n",
      "City number 41 of 596complete. | Added saint-philippe\n",
      "City number 42 of 596complete. | Added vestmannaeyjar\n",
      "City number 43 of 596complete. | Added batagay-alyta\n",
      "Missing data in city number 44 of 596. | Skipping karaul\n",
      "City number 45 of 596complete. | Added butaritari\n",
      "Missing data in city number 46 of 596. | Skipping vaitupu\n",
      "City number 47 of 596complete. | Added lagoa\n",
      "City number 48 of 596complete. | Added fairview\n",
      "City number 49 of 596complete. | Added norman wells\n",
      "Missing data in city number 50 of 596. | Skipping meyungs\n",
      "City number 51 of 596complete. | Added coquimbo\n",
      "City number 52 of 596complete. | Added new norfolk\n",
      "City number 53 of 596complete. | Added parana\n",
      "City number 54 of 596complete. | Added cacapava\n",
      "City number 55 of 596complete. | Added adjumani\n",
      "City number 56 of 596complete. | Added hithadhoo\n",
      "City number 57 of 596complete. | Added saint-jean-de-maurienne\n",
      "City number 58 of 596complete. | Added lebu\n",
      "City number 59 of 596complete. | Added tuktoyaktuk\n",
      "City number 60 of 596complete. | Added neyshabur\n",
      "City number 61 of 596complete. | Added san carlos\n",
      "City number 62 of 596complete. | Added khatanga\n",
      "City number 63 of 596complete. | Added el asintal\n",
      "City number 64 of 596complete. | Added manado\n",
      "City number 65 of 596complete. | Added pevek\n",
      "City number 66 of 596complete. | Added olafsvik\n",
      "City number 67 of 596complete. | Added nampula\n",
      "City number 68 of 596complete. | Added mahajanga\n",
      "City number 69 of 596complete. | Added kirakira\n",
      "City number 70 of 596complete. | Added jamestown\n",
      "City number 71 of 596complete. | Added muisne\n",
      "City number 72 of 596complete. | Added jalu\n",
      "City number 73 of 596complete. | Added busselton\n",
      "City number 74 of 596complete. | Added buala\n",
      "City number 75 of 596complete. | Added leningradskiy\n",
      "Missing data in city number 76 of 596. | Skipping kadykchan\n",
      "City number 77 of 596complete. | Added carnarvon\n",
      "City number 78 of 596complete. | Added provideniya\n",
      "City number 79 of 596complete. | Added bluff\n",
      "City number 80 of 596complete. | Added ancud\n",
      "City number 81 of 596complete. | Added okhotsk\n",
      "City number 82 of 596complete. | Added natal\n",
      "City number 83 of 596complete. | Added clonakilty\n",
      "City number 84 of 596complete. | Added guerande\n",
      "City number 85 of 596complete. | Added legionowo\n",
      "City number 86 of 596complete. | Added ilulissat\n",
      "City number 87 of 596complete. | Added cabo san lucas\n",
      "City number 88 of 596complete. | Added yellowknife\n",
      "City number 89 of 596complete. | Added madison\n",
      "City number 90 of 596complete. | Added jedrzejow\n",
      "City number 91 of 596complete. | Added kaspiyskiy\n",
      "City number 92 of 596complete. | Added port hardy\n",
      "Missing data in city number 93 of 596. | Skipping belushya guba\n",
      "City number 94 of 596complete. | Added qaanaaq\n",
      "City number 95 of 596complete. | Added margate\n",
      "City number 96 of 596complete. | Added filingue\n",
      "City number 97 of 596complete. | Added harper\n",
      "City number 98 of 596complete. | Added santo tomas\n",
      "City number 99 of 596complete. | Added itarema\n",
      "Missing data in city number 100 of 596. | Skipping amderma\n",
      "City number 101 of 596complete. | Added alice town\n",
      "City number 102 of 596complete. | Added hobart\n",
      "City number 103 of 596complete. | Added porto novo\n",
      "City number 104 of 596complete. | Added cape town\n",
      "Missing data in city number 105 of 596. | Skipping banmo\n",
      "City number 106 of 596complete. | Added dingle\n",
      "Missing data in city number 107 of 596. | Skipping sentyabrskiy\n",
      "City number 108 of 596complete. | Added kapaa\n",
      "City number 109 of 596complete. | Added tiksi\n",
      "City number 110 of 596complete. | Added bambous virieux\n",
      "City number 111 of 596complete. | Added namibe\n",
      "City number 112 of 596complete. | Added bonfim\n",
      "City number 113 of 596complete. | Added rio de janeiro\n",
      "City number 114 of 596complete. | Added norfolk\n",
      "City number 115 of 596complete. | Added lorengau\n",
      "City number 116 of 596complete. | Added peterhead\n",
      "City number 117 of 596complete. | Added quatre cocos\n",
      "City number 118 of 596complete. | Added new glasgow\n",
      "City number 119 of 596complete. | Added vao\n",
      "City number 120 of 596complete. | Added avarua\n",
      "City number 121 of 596complete. | Added yumen\n",
      "City number 122 of 596complete. | Added flin flon\n",
      "City number 123 of 596complete. | Added laguna\n",
      "Missing data in city number 124 of 596. | Skipping barentsburg\n",
      "City number 125 of 596complete. | Added saskylakh\n",
      "City number 126 of 596complete. | Added luderitz\n",
      "City number 127 of 596complete. | Added tatarsk\n",
      "City number 128 of 596complete. | Added leopold\n",
      "City number 129 of 596complete. | Added haines junction\n",
      "City number 130 of 596complete. | Added altamira\n",
      "City number 131 of 596complete. | Added nanortalik\n",
      "City number 132 of 596complete. | Added chumikan\n",
      "City number 133 of 596complete. | Added yar-sale\n",
      "City number 134 of 596complete. | Added khorramabad\n",
      "City number 135 of 596complete. | Added caravelas\n",
      "City number 136 of 596complete. | Added mar del plata\n",
      "Missing data in city number 137 of 596. | Skipping kazalinsk\n",
      "City number 138 of 596complete. | Added ishinomaki\n",
      "City number 139 of 596complete. | Added buraydah\n",
      "City number 140 of 596complete. | Added ust-maya\n",
      "City number 141 of 596complete. | Added ust-nera\n",
      "Missing data in city number 142 of 596. | Skipping andevoranto\n",
      "City number 143 of 596complete. | Added onalaska\n",
      "City number 144 of 596complete. | Added sao felix do xingu\n",
      "City number 145 of 596complete. | Added cockburn town\n",
      "City number 146 of 596complete. | Added georgetown\n",
      "City number 147 of 596complete. | Added necochea\n",
      "City number 148 of 596complete. | Added correntina\n",
      "City number 149 of 596complete. | Added marsh harbour\n",
      "City number 150 of 596complete. | Added moron\n",
      "City number 151 of 596complete. | Added alghero\n",
      "City number 152 of 596complete. | Added fare\n",
      "City number 153 of 596complete. | Added castro\n",
      "City number 154 of 596complete. | Added rocha\n",
      "City number 155 of 596complete. | Added pecos\n",
      "City number 156 of 596complete. | Added smithers\n",
      "City number 157 of 596complete. | Added palmaner\n",
      "City number 158 of 596complete. | Added atuona\n",
      "City number 159 of 596complete. | Added port alfred\n",
      "Missing data in city number 160 of 596. | Skipping mys shmidta\n",
      "City number 161 of 596complete. | Added nikolskoye\n",
      "City number 162 of 596complete. | Added hermanus\n",
      "City number 163 of 596complete. | Added sokoni\n",
      "City number 164 of 596complete. | Added mahebourg\n",
      "City number 165 of 596complete. | Added cherskiy\n"
     ]
    },
    {
     "name": "stdout",
     "output_type": "stream",
     "text": [
      "City number 166 of 596complete. | Added cayenne\n",
      "City number 167 of 596complete. | Added chuy\n",
      "City number 168 of 596complete. | Added souillac\n",
      "City number 169 of 596complete. | Added iqaluit\n",
      "City number 170 of 596complete. | Added langfang\n",
      "City number 171 of 596complete. | Added chimore\n",
      "City number 172 of 596complete. | Added tara\n",
      "City number 173 of 596complete. | Added shar\n",
      "City number 174 of 596complete. | Added victoria\n",
      "City number 175 of 596complete. | Added san lawrenz\n",
      "City number 176 of 596complete. | Added adrar\n",
      "City number 177 of 596complete. | Added ribeira grande\n",
      "City number 178 of 596complete. | Added kharp\n",
      "City number 179 of 596complete. | Added olinda\n",
      "Missing data in city number 180 of 596. | Skipping tsihombe\n",
      "City number 181 of 596complete. | Added vila franca do campo\n",
      "Missing data in city number 182 of 596. | Skipping wanderlandia\n",
      "City number 183 of 596complete. | Added touros\n",
      "City number 184 of 596complete. | Added tura\n",
      "City number 185 of 596complete. | Added kargasok\n",
      "Missing data in city number 186 of 596. | Skipping sahrak\n",
      "City number 187 of 596complete. | Added poum\n",
      "City number 188 of 596complete. | Added guiglo\n",
      "City number 189 of 596complete. | Added luwuk\n",
      "City number 190 of 596complete. | Added kizema\n",
      "City number 191 of 596complete. | Added payo\n",
      "City number 192 of 596complete. | Added sitka\n",
      "City number 193 of 596complete. | Added daru\n",
      "City number 194 of 596complete. | Added milkovo\n",
      "City number 195 of 596complete. | Added thompson\n",
      "City number 196 of 596complete. | Added celestun\n",
      "City number 197 of 596complete. | Added bandarbeyla\n",
      "City number 198 of 596complete. | Added palmer\n",
      "City number 199 of 596complete. | Added codrington\n",
      "City number 200 of 596complete. | Added samarai\n",
      "City number 201 of 596complete. | Added sorland\n",
      "City number 202 of 596complete. | Added oranjemund\n",
      "City number 203 of 596complete. | Added upernavik\n",
      "City number 204 of 596complete. | Added makubetsu\n",
      "City number 205 of 596complete. | Added sobolevo\n",
      "City number 206 of 596complete. | Added faya\n",
      "City number 207 of 596complete. | Added mayo\n",
      "City number 208 of 596complete. | Added isangel\n",
      "City number 209 of 596complete. | Added vallenar\n",
      "City number 210 of 596complete. | Added mount gambier\n",
      "City number 211 of 596complete. | Added ukiah\n",
      "City number 212 of 596complete. | Added ajdabiya\n",
      "City number 213 of 596complete. | Added jackson\n",
      "City number 214 of 596complete. | Added atambua\n",
      "Missing data in city number 215 of 596. | Skipping halalo\n",
      "City number 216 of 596complete. | Added lashio\n",
      "City number 217 of 596complete. | Added pangai\n",
      "City number 218 of 596complete. | Added zhanakorgan\n",
      "City number 219 of 596complete. | Added kaitangata\n",
      "Missing data in city number 220 of 596. | Skipping toulepleu\n",
      "City number 221 of 596complete. | Added tuatapere\n",
      "Missing data in city number 222 of 596. | Skipping jamnah\n",
      "Missing data in city number 223 of 596. | Skipping nizhneyansk\n",
      "City number 224 of 596complete. | Added okha\n",
      "City number 225 of 596complete. | Added nyangao\n",
      "City number 226 of 596complete. | Added fortuna\n",
      "City number 227 of 596complete. | Added port hedland\n",
      "City number 228 of 596complete. | Added plettenberg bay\n",
      "City number 229 of 596complete. | Added lalibela\n",
      "City number 230 of 596complete. | Added yulara\n",
      "City number 231 of 596complete. | Added banda aceh\n",
      "City number 232 of 596complete. | Added taksimo\n",
      "City number 233 of 596complete. | Added longyearbyen\n",
      "Missing data in city number 234 of 596. | Skipping grand centre\n",
      "City number 235 of 596complete. | Added bol\n",
      "City number 236 of 596complete. | Added fairbanks\n",
      "City number 237 of 596complete. | Added tual\n",
      "City number 238 of 596complete. | Added sola\n",
      "City number 239 of 596complete. | Added brae\n",
      "City number 240 of 596complete. | Added grand-santi\n",
      "City number 241 of 596complete. | Added barkhan\n",
      "City number 242 of 596complete. | Added mandalgovi\n",
      "City number 243 of 596complete. | Added hirara\n",
      "City number 244 of 596complete. | Added boguchany\n",
      "City number 245 of 596complete. | Added aransas pass\n",
      "City number 246 of 596complete. | Added kudahuvadhoo\n",
      "City number 247 of 596complete. | Added erenhot\n",
      "Missing data in city number 248 of 596. | Skipping saleaula\n",
      "City number 249 of 596complete. | Added mwanza\n",
      "City number 250 of 596complete. | Added omboue\n",
      "City number 251 of 596complete. | Added muchkapskiy\n",
      "City number 252 of 596complete. | Added coahuayana\n",
      "City number 253 of 596complete. | Added corrales\n",
      "City number 254 of 596complete. | Added srednekolymsk\n",
      "City number 255 of 596complete. | Added tovste\n",
      "City number 256 of 596complete. | Added pietersburg\n",
      "City number 257 of 596complete. | Added san quintin\n",
      "Missing data in city number 258 of 596. | Skipping tingrela\n",
      "City number 259 of 596complete. | Added wattegama\n",
      "City number 260 of 596complete. | Added joshimath\n",
      "City number 261 of 596complete. | Added ngaoundere\n",
      "City number 262 of 596complete. | Added babynino\n",
      "City number 263 of 596complete. | Added troitsko-pechorsk\n",
      "City number 264 of 596complete. | Added marsa matruh\n",
      "City number 265 of 596complete. | Added sakakah\n",
      "City number 266 of 596complete. | Added solnechnyy\n",
      "City number 267 of 596complete. | Added yerbogachen\n",
      "Missing data in city number 268 of 596. | Skipping warqla\n",
      "Missing data in city number 269 of 596. | Skipping pilao arcado\n",
      "City number 270 of 596complete. | Added baiyin\n",
      "City number 271 of 596complete. | Added kabalo\n",
      "City number 272 of 596complete. | Added inta\n",
      "City number 273 of 596complete. | Added qeshm\n",
      "City number 274 of 596complete. | Added tabou\n",
      "City number 275 of 596complete. | Added vanavara\n",
      "City number 276 of 596complete. | Added padang\n",
      "City number 277 of 596complete. | Added port lincoln\n",
      "City number 278 of 596complete. | Added villafranca de los barros\n",
      "City number 279 of 596complete. | Added ponta do sol\n",
      "City number 280 of 596complete. | Added vostok\n",
      "City number 281 of 596complete. | Added zacatepec\n",
      "City number 282 of 596complete. | Added shatoy\n",
      "City number 283 of 596complete. | Added grand gaube\n",
      "City number 284 of 596complete. | Added fort frances\n",
      "City number 285 of 596complete. | Added halifax\n",
      "City number 286 of 596complete. | Added beringovskiy\n",
      "Missing data in city number 287 of 596. | Skipping kerki\n",
      "City number 288 of 596complete. | Added san patricio\n",
      "City number 289 of 596complete. | Added mangrol\n",
      "City number 290 of 596complete. | Added muros\n",
      "City number 291 of 596complete. | Added poso\n",
      "City number 292 of 596complete. | Added praia\n",
      "City number 293 of 596complete. | Added ituporanga\n",
      "City number 294 of 596complete. | Added dwarka\n",
      "City number 295 of 596complete. | Added monrovia\n",
      "Missing data in city number 296 of 596. | Skipping skalistyy\n",
      "City number 297 of 596complete. | Added auki\n",
      "City number 298 of 596complete. | Added honningsvag\n",
      "Missing data in city number 299 of 596. | Skipping kesennuma\n",
      "City number 300 of 596complete. | Added bud\n",
      "City number 301 of 596complete. | Added mayumba\n",
      "City number 302 of 596complete. | Added sortland\n",
      "City number 303 of 596complete. | Added clyde river\n",
      "City number 304 of 596complete. | Added bilma\n",
      "City number 305 of 596complete. | Added imeni poliny osipenko\n",
      "City number 306 of 596complete. | Added lavrentiya\n",
      "City number 307 of 596complete. | Added roald\n",
      "City number 308 of 596complete. | Added mount isa\n",
      "Missing data in city number 309 of 596. | Skipping attawapiskat\n",
      "City number 310 of 596complete. | Added kyzyl-suu\n",
      "City number 311 of 596complete. | Added reims\n",
      "City number 312 of 596complete. | Added festus\n",
      "City number 313 of 596complete. | Added warrensburg\n",
      "City number 314 of 596complete. | Added russell\n",
      "City number 315 of 596complete. | Added saint-gedeon\n",
      "Missing data in city number 316 of 596. | Skipping grand river south east\n",
      "City number 317 of 596complete. | Added puro\n",
      "City number 318 of 596complete. | Added jieshi\n",
      "City number 319 of 596complete. | Added maloy\n",
      "City number 320 of 596complete. | Added normandin\n",
      "City number 321 of 596complete. | Added chambersburg\n",
      "City number 322 of 596complete. | Added kankaanpaa\n",
      "City number 323 of 596complete. | Added ngunguru\n",
      "Missing data in city number 324 of 596. | Skipping kuche\n",
      "City number 325 of 596complete. | Added la asuncion\n",
      "City number 326 of 596complete. | Added ketchikan\n",
      "City number 327 of 596complete. | Added santa marinella\n",
      "City number 328 of 596complete. | Added talnakh\n"
     ]
    },
    {
     "name": "stdout",
     "output_type": "stream",
     "text": [
      "Missing data in city number 329 of 596. | Skipping kudchi\n",
      "City number 330 of 596complete. | Added port blair\n",
      "City number 331 of 596complete. | Added bayir\n",
      "City number 332 of 596complete. | Added lavumisa\n",
      "City number 333 of 596complete. | Added vestmanna\n",
      "City number 334 of 596complete. | Added atbasar\n",
      "Missing data in city number 335 of 596. | Skipping samusu\n",
      "City number 336 of 596complete. | Added ambilobe\n",
      "City number 337 of 596complete. | Added dawei\n",
      "City number 338 of 596complete. | Added anadyr\n",
      "City number 339 of 596complete. | Added balboa\n",
      "City number 340 of 596complete. | Added broome\n",
      "Missing data in city number 341 of 596. | Skipping tumannyy\n",
      "City number 342 of 596complete. | Added lensk\n",
      "City number 343 of 596complete. | Added antofagasta\n",
      "Missing data in city number 344 of 596. | Skipping paytug\n",
      "City number 345 of 596complete. | Added katsuura\n",
      "City number 346 of 596complete. | Added dickson\n",
      "City number 347 of 596complete. | Added esperance\n",
      "Missing data in city number 348 of 596. | Skipping satitoa\n",
      "City number 349 of 596complete. | Added abu dhabi\n",
      "City number 350 of 596complete. | Added tessalit\n",
      "City number 351 of 596complete. | Added timbiqui\n",
      "City number 352 of 596complete. | Added kiomboi\n",
      "City number 353 of 596complete. | Added bardiyah\n",
      "City number 354 of 596complete. | Added vardo\n",
      "City number 355 of 596complete. | Added piacabucu\n",
      "City number 356 of 596complete. | Added onomichi\n",
      "City number 357 of 596complete. | Added wadena\n",
      "City number 358 of 596complete. | Added verguleasa\n",
      "City number 359 of 596complete. | Added makakilo city\n",
      "City number 360 of 596complete. | Added suntar\n",
      "City number 361 of 596complete. | Added galle\n",
      "City number 362 of 596complete. | Added kasganj\n",
      "City number 363 of 596complete. | Added olaine\n",
      "City number 364 of 596complete. | Added pangnirtung\n",
      "City number 365 of 596complete. | Added nemuro\n",
      "City number 366 of 596complete. | Added banjar\n",
      "City number 367 of 596complete. | Added grand-lahou\n",
      "Missing data in city number 368 of 596. | Skipping burica\n",
      "City number 369 of 596complete. | Added zhigansk\n",
      "City number 370 of 596complete. | Added shillong\n",
      "City number 371 of 596complete. | Added taurage\n",
      "City number 372 of 596complete. | Added shihezi\n",
      "City number 373 of 596complete. | Added enterprise\n",
      "City number 374 of 596complete. | Added lubango\n",
      "City number 375 of 596complete. | Added sao filipe\n",
      "City number 376 of 596complete. | Added skvyra\n",
      "City number 377 of 596complete. | Added paamiut\n",
      "City number 378 of 596complete. | Added takoradi\n",
      "City number 379 of 596complete. | Added qaqortoq\n",
      "City number 380 of 596complete. | Added tombouctou\n",
      "City number 381 of 596complete. | Added puerto escondido\n",
      "City number 382 of 596complete. | Added bakurianis andeziti\n",
      "City number 383 of 596complete. | Added arlit\n",
      "City number 384 of 596complete. | Added tazovskiy\n",
      "City number 385 of 596complete. | Added sinop\n",
      "City number 386 of 596complete. | Added pacific grove\n",
      "City number 387 of 596complete. | Added atar\n",
      "City number 388 of 596complete. | Added mayor pablo lagerenza\n",
      "City number 389 of 596complete. | Added miri\n",
      "City number 390 of 596complete. | Added saint-augustin\n",
      "City number 391 of 596complete. | Added mareeba\n",
      "City number 392 of 596complete. | Added pimentel\n",
      "City number 393 of 596complete. | Added ust-kuyga\n",
      "City number 394 of 596complete. | Added gourcy\n",
      "Missing data in city number 395 of 596. | Skipping bargal\n",
      "City number 396 of 596complete. | Added itaberaba\n",
      "City number 397 of 596complete. | Added guarne\n",
      "City number 398 of 596complete. | Added noshiro\n",
      "City number 399 of 596complete. | Added novyy rogachik\n",
      "City number 400 of 596complete. | Added saint george\n",
      "City number 401 of 596complete. | Added portadown\n",
      "City number 402 of 596complete. | Added inhambane\n",
      "City number 403 of 596complete. | Added usinsk\n",
      "City number 404 of 596complete. | Added baherden\n",
      "City number 405 of 596complete. | Added acapulco\n",
      "City number 406 of 596complete. | Added pangody\n",
      "City number 407 of 596complete. | Added havre-saint-pierre\n",
      "City number 408 of 596complete. | Added phangnga\n",
      "City number 409 of 596complete. | Added richards bay\n",
      "City number 410 of 596complete. | Added constitucion\n",
      "City number 411 of 596complete. | Added dailly\n",
      "City number 412 of 596complete. | Added samoylovka\n",
      "City number 413 of 596complete. | Added murygino\n",
      "City number 414 of 596complete. | Added termoli\n",
      "City number 415 of 596complete. | Added bangkalan\n",
      "City number 416 of 596complete. | Added praia da vitoria\n",
      "City number 417 of 596complete. | Added rafraf\n",
      "City number 418 of 596complete. | Added rio gallegos\n",
      "City number 419 of 596complete. | Added ormara\n",
      "City number 420 of 596complete. | Added klaksvik\n",
      "City number 421 of 596complete. | Added east london\n",
      "Missing data in city number 422 of 596. | Skipping cazaje\n",
      "City number 423 of 596complete. | Added eyrarbakki\n",
      "City number 424 of 596complete. | Added kununurra\n",
      "City number 425 of 596complete. | Added hailar\n",
      "City number 426 of 596complete. | Added aykhal\n",
      "City number 427 of 596complete. | Added kushima\n",
      "City number 428 of 596complete. | Added firminy\n",
      "City number 429 of 596complete. | Added strezhevoy\n",
      "City number 430 of 596complete. | Added ewa beach\n",
      "City number 431 of 596complete. | Added alofi\n",
      "City number 432 of 596complete. | Added ostrovnoy\n",
      "Missing data in city number 433 of 596. | Skipping sorvag\n",
      "City number 434 of 596complete. | Added filadelfia\n",
      "City number 435 of 596complete. | Added khuzdar\n",
      "City number 436 of 596complete. | Added vaitape\n",
      "City number 437 of 596complete. | Added west wendover\n",
      "Missing data in city number 438 of 596. | Skipping longlac\n",
      "City number 439 of 596complete. | Added broken hill\n",
      "City number 440 of 596complete. | Added homer\n",
      "City number 441 of 596complete. | Added bucak\n",
      "City number 442 of 596complete. | Added taltal\n",
      "City number 443 of 596complete. | Added saldanha\n",
      "City number 444 of 596complete. | Added sayla\n",
      "City number 445 of 596complete. | Added saint-joseph\n",
      "City number 446 of 596complete. | Added hunterville\n",
      "City number 447 of 596complete. | Added varzea da palma\n",
      "City number 448 of 596complete. | Added sari\n",
      "City number 449 of 596complete. | Added pidhorodna\n",
      "City number 450 of 596complete. | Added seminole\n",
      "City number 451 of 596complete. | Added inuvik\n",
      "City number 452 of 596complete. | Added nakatunguru\n",
      "City number 453 of 596complete. | Added kautokeino\n",
      "City number 454 of 596complete. | Added dunedin\n",
      "City number 455 of 596complete. | Added kisanga\n",
      "City number 456 of 596complete. | Added chabahar\n",
      "Missing data in city number 457 of 596. | Skipping marcona\n",
      "City number 458 of 596complete. | Added vung tau\n",
      "City number 459 of 596complete. | Added kiama\n",
      "City number 460 of 596complete. | Added bada\n",
      "City number 461 of 596complete. | Added redding\n",
      "City number 462 of 596complete. | Added manitouwadge\n",
      "City number 463 of 596complete. | Added crotone\n",
      "City number 464 of 596complete. | Added avera\n",
      "City number 465 of 596complete. | Added hopelchen\n",
      "City number 466 of 596complete. | Added baruun-urt\n",
      "City number 467 of 596complete. | Added aklavik\n",
      "City number 468 of 596complete. | Added ankazoabo\n",
      "City number 469 of 596complete. | Added meulaboh\n",
      "City number 470 of 596complete. | Added lukulu\n",
      "City number 471 of 596complete. | Added ahuimanu\n",
      "City number 472 of 596complete. | Added trairi\n",
      "City number 473 of 596complete. | Added palmas bellas\n",
      "City number 474 of 596complete. | Added seoul\n",
      "City number 475 of 596complete. | Added paso de los toros\n",
      "City number 476 of 596complete. | Added neiafu\n",
      "Missing data in city number 477 of 596. | Skipping novoilinskiy\n",
      "City number 478 of 596complete. | Added lasa\n",
      "City number 479 of 596complete. | Added matagami\n",
      "City number 480 of 596complete. | Added rawson\n",
      "City number 481 of 596complete. | Added zaranj\n",
      "City number 482 of 596complete. | Added taunsa\n",
      "City number 483 of 596complete. | Added chapais\n",
      "City number 484 of 596complete. | Added copiapo\n",
      "City number 485 of 596complete. | Added askiz\n",
      "City number 486 of 596complete. | Added bilibino\n",
      "City number 487 of 596complete. | Added pestovo\n",
      "City number 488 of 596complete. | Added amahai\n",
      "City number 489 of 596complete. | Added fukue\n",
      "City number 490 of 596complete. | Added campoverde\n",
      "Missing data in city number 491 of 596. | Skipping gorno-chuyskiy\n",
      "City number 492 of 596complete. | Added airai\n",
      "City number 493 of 596complete. | Added brigantine\n"
     ]
    },
    {
     "name": "stdout",
     "output_type": "stream",
     "text": [
      "City number 494 of 596complete. | Added diego de almagro\n",
      "City number 495 of 596complete. | Added nishihara\n",
      "City number 496 of 596complete. | Added pisco\n",
      "City number 497 of 596complete. | Added miraflores\n",
      "City number 498 of 596complete. | Added mildura\n",
      "City number 499 of 596complete. | Added odweyne\n",
      "City number 500 of 596complete. | Added westport\n",
      "Missing data in city number 501 of 596. | Skipping manzil tamim\n",
      "City number 502 of 596complete. | Added portland\n",
      "City number 503 of 596complete. | Added hovd\n",
      "City number 504 of 596complete. | Added capao da canoa\n",
      "City number 505 of 596complete. | Added sombrio\n",
      "City number 506 of 596complete. | Added dibulla\n",
      "City number 507 of 596complete. | Added aswan\n",
      "City number 508 of 596complete. | Added erdenet\n",
      "City number 509 of 596complete. | Added mnogovershinnyy\n",
      "City number 510 of 596complete. | Added pirenopolis\n",
      "City number 511 of 596complete. | Added chatham\n",
      "City number 512 of 596complete. | Added hami\n",
      "City number 513 of 596complete. | Added san-pedro\n",
      "City number 514 of 596complete. | Added yagodnoye\n",
      "City number 515 of 596complete. | Added elizabeth city\n",
      "City number 516 of 596complete. | Added orlik\n",
      "City number 517 of 596complete. | Added khalkhal\n",
      "City number 518 of 596complete. | Added san carlos de bariloche\n",
      "City number 519 of 596complete. | Added faanui\n",
      "City number 520 of 596complete. | Added poya\n",
      "City number 521 of 596complete. | Added lewistown\n",
      "City number 522 of 596complete. | Added athabasca\n",
      "City number 523 of 596complete. | Added edgewater\n",
      "City number 524 of 596complete. | Added turayf\n",
      "City number 525 of 596complete. | Added evanston\n",
      "City number 526 of 596complete. | Added tupik\n",
      "City number 527 of 596complete. | Added san cristobal\n",
      "City number 528 of 596complete. | Added wynyard\n",
      "City number 529 of 596complete. | Added pinega\n",
      "City number 530 of 596complete. | Added husavik\n",
      "City number 531 of 596complete. | Added kavieng\n",
      "City number 532 of 596complete. | Added los llanos de aridane\n",
      "City number 533 of 596complete. | Added port said\n",
      "City number 534 of 596complete. | Added hakkari\n",
      "Missing data in city number 535 of 596. | Skipping stoyba\n",
      "City number 536 of 596complete. | Added smolenka\n",
      "Missing data in city number 537 of 596. | Skipping bolungarvik\n",
      "City number 538 of 596complete. | Added dauriya\n",
      "City number 539 of 596complete. | Added toccoa\n",
      "City number 540 of 596complete. | Added danielskuil\n",
      "City number 541 of 596complete. | Added polyarnyy\n",
      "City number 542 of 596complete. | Added issoire\n",
      "City number 543 of 596complete. | Added ulladulla\n",
      "City number 544 of 596complete. | Added warmbad\n",
      "City number 545 of 596complete. | Added cidreira\n",
      "City number 546 of 596complete. | Added general roca\n",
      "City number 547 of 596complete. | Added zaoyang\n",
      "City number 548 of 596complete. | Added taiobeiras\n",
      "City number 549 of 596complete. | Added oeiras\n",
      "City number 550 of 596complete. | Added nome\n",
      "City number 551 of 596complete. | Added rosamorada\n",
      "City number 552 of 596complete. | Added ayan\n",
      "City number 553 of 596complete. | Added kruisfontein\n",
      "Missing data in city number 554 of 596. | Skipping saryshagan\n",
      "City number 555 of 596complete. | Added bengkulu\n",
      "City number 556 of 596complete. | Added kathmandu\n",
      "City number 557 of 596complete. | Added guiyang\n",
      "City number 558 of 596complete. | Added benguela\n",
      "Missing data in city number 559 of 596. | Skipping dianopolis\n",
      "City number 560 of 596complete. | Added chengde\n",
      "Missing data in city number 561 of 596. | Skipping ardistan\n",
      "City number 562 of 596complete. | Added heihe\n",
      "City number 563 of 596complete. | Added majagual\n",
      "City number 564 of 596complete. | Added san rafael\n",
      "City number 565 of 596complete. | Added oga\n",
      "City number 566 of 596complete. | Added goderich\n",
      "Missing data in city number 567 of 596. | Skipping coulihaut\n",
      "City number 568 of 596complete. | Added kloulklubed\n",
      "City number 569 of 596complete. | Added san ramon de la nueva oran\n",
      "City number 570 of 596complete. | Added manta\n",
      "City number 571 of 596complete. | Added cap malheureux\n",
      "Missing data in city number 572 of 596. | Skipping palabuhanratu\n",
      "City number 573 of 596complete. | Added svetlogorsk\n",
      "City number 574 of 596complete. | Added peniche\n",
      "City number 575 of 596complete. | Added puerto penasco\n",
      "City number 576 of 596complete. | Added lac du bonnet\n",
      "City number 577 of 596complete. | Added komsomolskiy\n",
      "City number 578 of 596complete. | Added kasongo-lunda\n",
      "Missing data in city number 579 of 596. | Skipping kegayli\n",
      "City number 580 of 596complete. | Added tomatlan\n",
      "City number 581 of 596complete. | Added kyra\n",
      "Missing data in city number 582 of 596. | Skipping temaraia\n",
      "City number 583 of 596complete. | Added semnan\n",
      "City number 584 of 596complete. | Added zhireken\n",
      "City number 585 of 596complete. | Added gerash\n",
      "City number 586 of 596complete. | Added bairiki\n",
      "Missing data in city number 587 of 596. | Skipping tabiauea\n",
      "City number 588 of 596complete. | Added sebinkarahisar\n",
      "City number 589 of 596complete. | Added garowe\n",
      "Missing data in city number 590 of 596. | Skipping bur gabo\n",
      "City number 591 of 596complete. | Added magadan\n",
      "City number 592 of 596complete. | Added zhanaozen\n",
      "City number 593 of 596complete. | Added vanino\n",
      "City number 594 of 596complete. | Added puerto del rosario\n",
      "City number 595 of 596complete. | Added guymon\n",
      "City number 596 of 596complete. | Added nizhniy odes\n",
      "End of list\n"
     ]
    }
   ],
   "source": [
    "#start counter for cities\n",
    "number = 1\n",
    "#Create list for requirements \n",
    "city_id = []\n",
    "city_name = []\n",
    "lat = []\n",
    "lng = []\n",
    "temp = []\n",
    "humidity = []\n",
    "cloudiness = []\n",
    "wind = []\n",
    "country = []\n",
    "\n",
    "# Create loop through cities and get data\n",
    "print('Start of list')\n",
    "# API call to weather map\n",
    "for city in cities:\n",
    "    try:\n",
    "        city_info = (requests.get(url + '&q=' + city)).json()\n",
    "        city_name.append(city_info['name'])\n",
    "        lat.append(city_info['coord']['lat'])\n",
    "        lng.append(city_info['coord']['lon'])\n",
    "        temp.append(city_info['main']['temp'])\n",
    "        humidity.append(city_info['main']['humidity'])\n",
    "        cloudiness.append(city_info['clouds']['all'])\n",
    "        wind.append(city_info['wind']['speed'])\n",
    "        country.append(city_info['sys']['country'])\n",
    "        print(f'City number {number} of {len(cities)}complete. | Added {city}')\n",
    "        number = number + 1\n",
    "    except KeyError:\n",
    "        print(f'Missing data in city number {number} of {len(cities)}. | Skipping {city}')\n",
    "        number = number + 1\n",
    "print('End of list')\n",
    "        \n",
    "        "
   ]
  },
  {
   "cell_type": "markdown",
   "metadata": {},
   "source": [
    "### Convert Raw Data to DataFrame\n",
    "* Export the city data into a .csv.\n",
    "* Display the DataFrame"
   ]
  },
  {
   "cell_type": "code",
   "execution_count": 9,
   "metadata": {},
   "outputs": [
    {
     "data": {
      "text/html": [
       "<div>\n",
       "<style scoped>\n",
       "    .dataframe tbody tr th:only-of-type {\n",
       "        vertical-align: middle;\n",
       "    }\n",
       "\n",
       "    .dataframe tbody tr th {\n",
       "        vertical-align: top;\n",
       "    }\n",
       "\n",
       "    .dataframe thead th {\n",
       "        text-align: right;\n",
       "    }\n",
       "</style>\n",
       "<table border=\"1\" class=\"dataframe\">\n",
       "  <thead>\n",
       "    <tr style=\"text-align: right;\">\n",
       "      <th></th>\n",
       "      <th>City</th>\n",
       "      <th>Latitude</th>\n",
       "      <th>Longitude</th>\n",
       "      <th>Temperature</th>\n",
       "      <th>Humidity</th>\n",
       "      <th>Cloudiness</th>\n",
       "      <th>Wind Speed</th>\n",
       "      <th>Country</th>\n",
       "    </tr>\n",
       "  </thead>\n",
       "  <tbody>\n",
       "    <tr>\n",
       "      <td>0</td>\n",
       "      <td>Ushuaia</td>\n",
       "      <td>-54.80</td>\n",
       "      <td>-68.30</td>\n",
       "      <td>41.00</td>\n",
       "      <td>75</td>\n",
       "      <td>75</td>\n",
       "      <td>26.40</td>\n",
       "      <td>AR</td>\n",
       "    </tr>\n",
       "    <tr>\n",
       "      <td>1</td>\n",
       "      <td>Novosheshminsk</td>\n",
       "      <td>55.07</td>\n",
       "      <td>51.23</td>\n",
       "      <td>31.60</td>\n",
       "      <td>85</td>\n",
       "      <td>60</td>\n",
       "      <td>7.87</td>\n",
       "      <td>RU</td>\n",
       "    </tr>\n",
       "    <tr>\n",
       "      <td>2</td>\n",
       "      <td>Anloga</td>\n",
       "      <td>5.79</td>\n",
       "      <td>0.90</td>\n",
       "      <td>80.60</td>\n",
       "      <td>88</td>\n",
       "      <td>20</td>\n",
       "      <td>3.36</td>\n",
       "      <td>GH</td>\n",
       "    </tr>\n",
       "    <tr>\n",
       "      <td>3</td>\n",
       "      <td>Arraial do Cabo</td>\n",
       "      <td>-22.97</td>\n",
       "      <td>-42.03</td>\n",
       "      <td>74.10</td>\n",
       "      <td>68</td>\n",
       "      <td>14</td>\n",
       "      <td>6.60</td>\n",
       "      <td>BR</td>\n",
       "    </tr>\n",
       "    <tr>\n",
       "      <td>4</td>\n",
       "      <td>Okakarara</td>\n",
       "      <td>-20.58</td>\n",
       "      <td>17.43</td>\n",
       "      <td>57.99</td>\n",
       "      <td>34</td>\n",
       "      <td>0</td>\n",
       "      <td>5.73</td>\n",
       "      <td>NA</td>\n",
       "    </tr>\n",
       "  </tbody>\n",
       "</table>\n",
       "</div>"
      ],
      "text/plain": [
       "              City  Latitude  Longitude  Temperature  Humidity  Cloudiness  \\\n",
       "0          Ushuaia    -54.80     -68.30        41.00        75          75   \n",
       "1   Novosheshminsk     55.07      51.23        31.60        85          60   \n",
       "2           Anloga      5.79       0.90        80.60        88          20   \n",
       "3  Arraial do Cabo    -22.97     -42.03        74.10        68          14   \n",
       "4        Okakarara    -20.58      17.43        57.99        34           0   \n",
       "\n",
       "   Wind Speed Country  \n",
       "0       26.40      AR  \n",
       "1        7.87      RU  \n",
       "2        3.36      GH  \n",
       "3        6.60      BR  \n",
       "4        5.73      NA  "
      ]
     },
     "execution_count": 9,
     "metadata": {},
     "output_type": "execute_result"
    }
   ],
   "source": [
    "# Create dataframe for requirements \n",
    "city_info_df = pd.DataFrame({'City': city_name,\n",
    "                            'Latitude': lat,\n",
    "                            'Longitude': lng,\n",
    "                            'Temperature': temp,\n",
    "                            'Humidity': humidity,\n",
    "                            'Cloudiness': cloudiness,\n",
    "                            'Wind Speed': wind,\n",
    "                            'Country': country})\n",
    "# Save dataframe to csv file\n",
    "pd.DataFrame.to_csv(city_info_df, 'city_info2.csv')\n",
    "city_info_df.head()"
   ]
  },
  {
   "cell_type": "code",
   "execution_count": 10,
   "metadata": {},
   "outputs": [
    {
     "name": "stdout",
     "output_type": "stream",
     "text": [
      "City           539\n",
      "Latitude       539\n",
      "Longitude      539\n",
      "Temperature    539\n",
      "Humidity       539\n",
      "Cloudiness     539\n",
      "Wind Speed     539\n",
      "Country        539\n",
      "dtype: int64\n"
     ]
    }
   ],
   "source": [
    "city_count = city_info_df.count()\n",
    "print(city_count)"
   ]
  },
  {
   "cell_type": "markdown",
   "metadata": {},
   "source": [
    "## Inspect the data and remove the cities where the humidity > 100%.\n",
    "----\n",
    "Skip this step if there are no cities that have humidity > 100%. "
   ]
  },
  {
   "cell_type": "code",
   "execution_count": 11,
   "metadata": {},
   "outputs": [
    {
     "name": "stdout",
     "output_type": "stream",
     "text": [
      "         Latitude   Longitude  Temperature    Humidity  Cloudiness  Wind Speed\n",
      "count  539.000000  539.000000   539.000000  539.000000  539.000000  539.000000\n",
      "mean    21.232189   15.400909    59.007199   68.538033   55.821892    7.955844\n",
      "std     33.707555   91.168536    19.828166   22.162209   38.252072    5.668374\n",
      "min    -54.800000 -175.200000    -0.400000    7.000000    0.000000    0.250000\n",
      "25%     -7.040000  -67.940000    43.450000   57.000000   18.000000    3.465000\n",
      "50%     27.820000   20.230000    61.000000   74.000000   73.000000    6.730000\n",
      "75%     49.390000   95.725000    76.475000   86.500000   93.000000   10.635000\n",
      "max     78.220000  179.320000    95.000000  100.000000  100.000000   34.580000\n"
     ]
    }
   ],
   "source": [
    "# Summary stats\n",
    "print(city_info_df.describe())"
   ]
  },
  {
   "cell_type": "code",
   "execution_count": 12,
   "metadata": {},
   "outputs": [
    {
     "name": "stdout",
     "output_type": "stream",
     "text": [
      "City           0\n",
      "Latitude       0\n",
      "Longitude      0\n",
      "Temperature    0\n",
      "Humidity       0\n",
      "Cloudiness     0\n",
      "Wind Speed     0\n",
      "Country        0\n",
      "dtype: int64\n"
     ]
    }
   ],
   "source": [
    "# Cities with hummidity >100%\n",
    "humid_cities = city_info_df.loc[city_info_df[\"Humidity\"]>100].count()\n",
    "print(humid_cities)"
   ]
  },
  {
   "cell_type": "code",
   "execution_count": 13,
   "metadata": {},
   "outputs": [],
   "source": [
    "#  Get the indices of cities that have humidity over 100%.\n"
   ]
  },
  {
   "cell_type": "code",
   "execution_count": 14,
   "metadata": {},
   "outputs": [],
   "source": [
    "# Make a new DataFrame equal to the city data to drop all humidity outliers by index.\n",
    "# Passing \"inplace=False\" will make a copy of the city_data DataFrame, which we call \"clean_city_data\".\n"
   ]
  },
  {
   "cell_type": "code",
   "execution_count": 15,
   "metadata": {},
   "outputs": [],
   "source": [
    "# Extract relevant fields from the data frame\n",
    "\n",
    "# Export the City_Data into a csv\n"
   ]
  },
  {
   "cell_type": "markdown",
   "metadata": {},
   "source": [
    "## Plotting the Data\n",
    "* Use proper labeling of the plots using plot titles (including date of analysis) and axes labels.\n",
    "* Save the plotted figures as .pngs."
   ]
  },
  {
   "cell_type": "markdown",
   "metadata": {},
   "source": [
    "## Latitude vs. Temperature Plot"
   ]
  },
  {
   "cell_type": "code",
   "execution_count": 16,
   "metadata": {
    "scrolled": true
   },
   "outputs": [
    {
     "data": {
      "image/png": "[encoded data removed]",
      "text/plain": [
       "<Figure size 432x288 with 1 Axes>"
      ]
     },
     "metadata": {
      "needs_background": "light"
     },
     "output_type": "display_data"
    }
   ],
   "source": [
    "# Scatter Plot of latitude vs. temperature \n",
    "plt.scatter(city_info_df['Latitude'], city_info_df['Temperature']);\n",
    "plt.title(f'Latitude vs. Temperature')\n",
    "plt.xlabel('Latitude')\n",
    "plt.ylabel('Temperature')\n",
    "plt.savefig(\"Latitude_vs_Temperature.png\")\n",
    "plt.show()"
   ]
  },
  {
   "cell_type": "markdown",
   "metadata": {},
   "source": [
    "The scatter plot shows the temperature rising as the latitude gets closer to the equator. \n",
    "The scatter plot also shows the temperature drop as it gets further away from the equator."
   ]
  },
  {
   "cell_type": "markdown",
   "metadata": {},
   "source": [
    "## Latitude vs. Humidity Plot"
   ]
  },
  {
   "cell_type": "code",
   "execution_count": 17,
   "metadata": {},
   "outputs": [
    {
     "data": {
      "image/png": "[encoded data removed]",
      "text/plain": [
       "<Figure size 432x288 with 1 Axes>"
      ]
     },
     "metadata": {
      "needs_background": "light"
     },
     "output_type": "display_data"
    }
   ],
   "source": [
    "# Scatter Plot of latitude vs. humidity \n",
    "plt.scatter(city_info_df['Latitude'], city_info_df['Humidity']);\n",
    "plt.title(f'Latitude vs. Humidity')\n",
    "plt.xlabel('Latitude')\n",
    "plt.ylabel('Humidity')\n",
    "plt.savefig(\"Latitude_vs_Humidity.png\")\n",
    "plt.show()"
   ]
  },
  {
   "cell_type": "markdown",
   "metadata": {},
   "source": [
    "The scatter plot shows that there is no pattern in the data. At a first glance it looks like humidity is greater as the latitude increases but there is no definate correlation. "
   ]
  },
  {
   "cell_type": "markdown",
   "metadata": {},
   "source": [
    "## Latitude vs. Cloudiness Plot"
   ]
  },
  {
   "cell_type": "code",
   "execution_count": 18,
   "metadata": {},
   "outputs": [
    {
     "data": {
      "image/png": "[encoded data removed]",
      "text/plain": [
       "<Figure size 432x288 with 1 Axes>"
      ]
     },
     "metadata": {
      "needs_background": "light"
     },
     "output_type": "display_data"
    }
   ],
   "source": [
    "# Scatter Plot of latitude vs. temperature \n",
    "plt.scatter(city_info_df['Latitude'], city_info_df['Cloudiness']);\n",
    "plt.title(f'Latitude vs. Cloudiness')\n",
    "plt.xlabel('Latitude')\n",
    "plt.ylabel('Cloudiness')\n",
    "plt.savefig(\"Latitude_vs_Cloudiness.png\")\n",
    "plt.show()"
   ]
  },
  {
   "cell_type": "markdown",
   "metadata": {},
   "source": [
    "There is no pattern with this data. I do not believe there is a correlation between cloudiness and latitude. "
   ]
  },
  {
   "cell_type": "markdown",
   "metadata": {},
   "source": [
    "## Latitude vs. Wind Speed Plot"
   ]
  },
  {
   "cell_type": "code",
   "execution_count": 19,
   "metadata": {},
   "outputs": [
    {
     "data": {
      "image/png": "[encoded data removed]",
      "text/plain": [
       "<Figure size 432x288 with 1 Axes>"
      ]
     },
     "metadata": {
      "needs_background": "light"
     },
     "output_type": "display_data"
    }
   ],
   "source": [
    "# Scatter Plot of latitude vs. temperature \n",
    "plt.scatter(city_info_df['Latitude'], city_info_df['Wind Speed']);\n",
    "plt.title(f'Latitude vs. Wind Speed')\n",
    "plt.xlabel('Latitude')\n",
    "plt.ylabel('Wind Speed')\n",
    "plt.savefig(\"Latitude_vs_WindSpeed.png\")\n",
    "plt.show()"
   ]
  },
  {
   "cell_type": "markdown",
   "metadata": {},
   "source": [
    "It looks like the wind speed could be correlated with latitude but there is not a difinitive pattern. "
   ]
  },
  {
   "cell_type": "markdown",
   "metadata": {},
   "source": [
    "## Linear Regression"
   ]
  },
  {
   "cell_type": "code",
   "execution_count": 20,
   "metadata": {},
   "outputs": [],
   "source": [
    "# OPTIONAL: Create a function to create Linear Regression plots"
   ]
  },
  {
   "cell_type": "code",
   "execution_count": 21,
   "metadata": {},
   "outputs": [],
   "source": [
    "# Create Northern and Southern Hemisphere DataFrames\n",
    "northern_hemisphere_df = city_info_df.loc[city_info_df[\"Latitude\"]>=0]\n",
    "#northern_hemisphere_df.count\n",
    "southern_hemisphere_df = city_info_df.loc[city_info_df[\"Latitude\"]<=0]\n",
    "#southern_hemisphere_df.count"
   ]
  },
  {
   "cell_type": "markdown",
   "metadata": {},
   "source": [
    "####  Northern Hemisphere - Max Temp vs. Latitude Linear Regression"
   ]
  },
  {
   "cell_type": "code",
   "execution_count": 22,
   "metadata": {},
   "outputs": [
    {
     "name": "stdout",
     "output_type": "stream",
     "text": [
      "y = -0.92x + 90.95\n",
      "The r-squared is: 0.7664387181970702\n"
     ]
    },
    {
     "data": {
      "image/png": "[encoded data removed]",
      "text/plain": [
       "<Figure size 432x288 with 1 Axes>"
      ]
     },
     "metadata": {
      "needs_background": "light"
     },
     "output_type": "display_data"
    }
   ],
   "source": [
    "x_values = northern_hemisphere_df[\"Latitude\"]\n",
    "y_values = northern_hemisphere_df[\"Temperature\"]\n",
    "(slope, intercept, rvalue, pvalue, stderr) = linregress(x_values, y_values)\n",
    "regress_values = x_values * slope + intercept\n",
    "line_eq = \"y = \" + str(round(slope,2)) + \"x + \" + str(round(intercept,2))\n",
    "plt.scatter(x_values,y_values)\n",
    "plt.plot(x_values,regress_values,\"r-\")\n",
    "#plt.annotate(line_eq,xy=(-10,-20), xytext=(10,3),fontsize=15,color=\"red\")\n",
    "print(line_eq)\n",
    "plt.xlabel('Latitude')\n",
    "plt.ylabel('Temperature')\n",
    "print(f\"The r-squared is: {rvalue**2}\")\n",
    "plt.show()"
   ]
  },
  {
   "cell_type": "markdown",
   "metadata": {},
   "source": [
    "There is a negative correlation between max temperature and the latitude. the r-squared value is above .65 which is an indicator that there is a strong correlation in the data. "
   ]
  },
  {
   "cell_type": "markdown",
   "metadata": {},
   "source": [
    "####  Southern Hemisphere - Max Temp vs. Latitude Linear Regression"
   ]
  },
  {
   "cell_type": "code",
   "execution_count": 23,
   "metadata": {},
   "outputs": [
    {
     "name": "stdout",
     "output_type": "stream",
     "text": [
      "y = 0.57x + 83.07\n",
      "The r-squared is: 0.47467614024500976\n"
     ]
    },
    {
     "data": {
      "image/png": "[encoded data removed]",
      "text/plain": [
       "<Figure size 432x288 with 1 Axes>"
      ]
     },
     "metadata": {
      "needs_background": "light"
     },
     "output_type": "display_data"
    }
   ],
   "source": [
    "x_values = southern_hemisphere_df[\"Latitude\"]\n",
    "y_values = southern_hemisphere_df[\"Temperature\"]\n",
    "(slope, intercept, rvalue, pvalue, stderr) = linregress(x_values, y_values)\n",
    "regress_values = x_values * slope + intercept\n",
    "line_eq = \"y = \" + str(round(slope,2)) + \"x + \" + str(round(intercept,2))\n",
    "plt.scatter(x_values,y_values)\n",
    "plt.plot(x_values,regress_values,\"r-\")\n",
    "#plt.annotate(line_eq,xy=(-10,-20), xytext=(10,3),fontsize=15,color=\"red\")\n",
    "print(line_eq)\n",
    "plt.xlabel('Latitude')\n",
    "plt.ylabel('Temperature')\n",
    "print(f\"The r-squared is: {rvalue**2}\")\n",
    "plt.show()"
   ]
  },
  {
   "cell_type": "markdown",
   "metadata": {},
   "source": [
    "There is a positive correlation with the data but the r-square value is below .65, indicating there is not a strong correlation. "
   ]
  },
  {
   "cell_type": "markdown",
   "metadata": {},
   "source": [
    "####  Northern Hemisphere - Humidity (%) vs. Latitude Linear Regression"
   ]
  },
  {
   "cell_type": "code",
   "execution_count": 24,
   "metadata": {},
   "outputs": [
    {
     "name": "stdout",
     "output_type": "stream",
     "text": [
      "y = 0.24x + 57.19\n",
      "The r-squared is: 0.038115461381830786\n"
     ]
    },
    {
     "data": {
      "image/png": "[encoded data removed]",
      "text/plain": [
       "<Figure size 432x288 with 1 Axes>"
      ]
     },
     "metadata": {
      "needs_background": "light"
     },
     "output_type": "display_data"
    }
   ],
   "source": [
    "x_values = northern_hemisphere_df[\"Latitude\"]\n",
    "y_values = northern_hemisphere_df[\"Humidity\"]\n",
    "(slope, intercept, rvalue, pvalue, stderr) = linregress(x_values, y_values)\n",
    "regress_values = x_values * slope + intercept\n",
    "line_eq = \"y = \" + str(round(slope,2)) + \"x + \" + str(round(intercept,2))\n",
    "plt.scatter(x_values,y_values)\n",
    "plt.plot(x_values,regress_values,\"r-\")\n",
    "#plt.annotate(line_eq,xy=(-10,-20), xytext=(10,3),fontsize=15,color=\"red\")\n",
    "print(line_eq)\n",
    "plt.xlabel('Latitude')\n",
    "plt.ylabel('Humidity')\n",
    "print(f\"The r-squared is: {rvalue**2}\")\n",
    "plt.show()"
   ]
  },
  {
   "cell_type": "markdown",
   "metadata": {},
   "source": [
    "There is not a correlation between humidity and latitude. The r-square value is very close to 0."
   ]
  },
  {
   "cell_type": "markdown",
   "metadata": {},
   "source": [
    "####  Southern Hemisphere - Humidity (%) vs. Latitude Linear Regression"
   ]
  },
  {
   "cell_type": "code",
   "execution_count": 25,
   "metadata": {},
   "outputs": [
    {
     "name": "stdout",
     "output_type": "stream",
     "text": [
      "y = 0.17x + 76.22\n",
      "The r-squared is: 0.018749725203739298\n"
     ]
    },
    {
     "data": {
      "image/png": "[encoded data removed]",
      "text/plain": [
       "<Figure size 432x288 with 1 Axes>"
      ]
     },
     "metadata": {
      "needs_background": "light"
     },
     "output_type": "display_data"
    }
   ],
   "source": [
    "x_values = southern_hemisphere_df[\"Latitude\"]\n",
    "y_values = southern_hemisphere_df[\"Humidity\"]\n",
    "(slope, intercept, rvalue, pvalue, stderr) = linregress(x_values, y_values)\n",
    "regress_values = x_values * slope + intercept\n",
    "line_eq = \"y = \" + str(round(slope,2)) + \"x + \" + str(round(intercept,2))\n",
    "plt.scatter(x_values,y_values)\n",
    "plt.plot(x_values,regress_values,\"r-\")\n",
    "#plt.annotate(line_eq,xy=(-10,-20), xytext=(10,3),fontsize=15,color=\"red\")\n",
    "print(line_eq)\n",
    "plt.xlabel('Latitude')\n",
    "plt.ylabel('Humidity')\n",
    "print(f\"The r-squared is: {rvalue**2}\")\n",
    "plt.show()"
   ]
  },
  {
   "cell_type": "markdown",
   "metadata": {},
   "source": [
    "There is no correlation, the r-square value is close to 0. "
   ]
  },
  {
   "cell_type": "markdown",
   "metadata": {},
   "source": [
    "####  Northern Hemisphere - Cloudiness (%) vs. Latitude Linear Regression"
   ]
  },
  {
   "cell_type": "code",
   "execution_count": 26,
   "metadata": {},
   "outputs": [
    {
     "name": "stdout",
     "output_type": "stream",
     "text": [
      "y = 0.23x + 47.43\n",
      "The r-squared is: 0.014072352732044833\n"
     ]
    },
    {
     "data": {
      "image/png": "[encoded data removed]",
      "text/plain": [
       "<Figure size 432x288 with 1 Axes>"
      ]
     },
     "metadata": {
      "needs_background": "light"
     },
     "output_type": "display_data"
    }
   ],
   "source": [
    "x_values = northern_hemisphere_df[\"Latitude\"]\n",
    "y_values = northern_hemisphere_df[\"Cloudiness\"]\n",
    "(slope, intercept, rvalue, pvalue, stderr) = linregress(x_values, y_values)\n",
    "regress_values = x_values * slope + intercept\n",
    "line_eq = \"y = \" + str(round(slope,2)) + \"x + \" + str(round(intercept,2))\n",
    "plt.scatter(x_values,y_values)\n",
    "plt.plot(x_values,regress_values,\"r-\")\n",
    "#plt.annotate(line_eq,xy=(-10,-20), xytext=(10,3),fontsize=15,color=\"red\")\n",
    "print(line_eq)\n",
    "plt.xlabel('Latitude')\n",
    "plt.ylabel('Cloudiness')\n",
    "print(f\"The r-squared is: {rvalue**2}\")\n",
    "plt.show()"
   ]
  },
  {
   "cell_type": "markdown",
   "metadata": {},
   "source": [
    "There is not a correlation between cloudiness and latitude. The r-square value is very close to 0."
   ]
  },
  {
   "cell_type": "markdown",
   "metadata": {},
   "source": [
    "####  Southern Hemisphere - Cloudiness (%) vs. Latitude Linear Regression"
   ]
  },
  {
   "cell_type": "code",
   "execution_count": 27,
   "metadata": {},
   "outputs": [
    {
     "name": "stdout",
     "output_type": "stream",
     "text": [
      "y = -0.05x + 52.53\n",
      "The r-squared is: 0.00033920173590793764\n"
     ]
    },
    {
     "data": {
      "image/png": "[encoded data removed]",
      "text/plain": [
       "<Figure size 432x288 with 1 Axes>"
      ]
     },
     "metadata": {
      "needs_background": "light"
     },
     "output_type": "display_data"
    }
   ],
   "source": [
    "x_values = southern_hemisphere_df[\"Latitude\"]\n",
    "y_values = southern_hemisphere_df[\"Cloudiness\"]\n",
    "(slope, intercept, rvalue, pvalue, stderr) = linregress(x_values, y_values)\n",
    "regress_values = x_values * slope + intercept\n",
    "line_eq = \"y = \" + str(round(slope,2)) + \"x + \" + str(round(intercept,2))\n",
    "plt.scatter(x_values,y_values)\n",
    "plt.plot(x_values,regress_values,\"r-\")\n",
    "#plt.annotate(line_eq,xy=(-10,-20), xytext=(10,3),fontsize=15,color=\"red\")\n",
    "print(line_eq)\n",
    "plt.xlabel('Latitude')\n",
    "plt.ylabel('Cloudiness')\n",
    "print(f\"The r-squared is: {rvalue**2}\")\n",
    "plt.show()"
   ]
  },
  {
   "cell_type": "markdown",
   "metadata": {},
   "source": [
    "There is not a correlation between cloudiness and latitude. The r-square value is very close to 0."
   ]
  },
  {
   "cell_type": "markdown",
   "metadata": {},
   "source": [
    "####  Northern Hemisphere - Wind Speed (mph) vs. Latitude Linear Regression"
   ]
  },
  {
   "cell_type": "code",
   "execution_count": 28,
   "metadata": {},
   "outputs": [
    {
     "name": "stdout",
     "output_type": "stream",
     "text": [
      "y = 0.04x + 6.46\n",
      "The r-squared is: 0.019888654556700015\n"
     ]
    },
    {
     "data": {
      "image/png": "[encoded data removed]",
      "text/plain": [
       "<Figure size 432x288 with 1 Axes>"
      ]
     },
     "metadata": {
      "needs_background": "light"
     },
     "output_type": "display_data"
    }
   ],
   "source": [
    "x_values = northern_hemisphere_df[\"Latitude\"]\n",
    "y_values = northern_hemisphere_df[\"Wind Speed\"]\n",
    "(slope, intercept, rvalue, pvalue, stderr) = linregress(x_values, y_values)\n",
    "regress_values = x_values * slope + intercept\n",
    "line_eq = \"y = \" + str(round(slope,2)) + \"x + \" + str(round(intercept,2))\n",
    "plt.scatter(x_values,y_values)\n",
    "plt.plot(x_values,regress_values,\"r-\")\n",
    "#plt.annotate(line_eq,xy=(-10,-20), xytext=(10,3),fontsize=15,color=\"red\")\n",
    "print(line_eq)\n",
    "plt.xlabel('Latitude')\n",
    "plt.ylabel('Wind Speed')\n",
    "print(f\"The r-squared is: {rvalue**2}\")\n",
    "plt.show()"
   ]
  },
  {
   "cell_type": "markdown",
   "metadata": {},
   "source": [
    "There is not a correlation between wind speed and latitude. The r-square value is very close to 0."
   ]
  },
  {
   "cell_type": "markdown",
   "metadata": {},
   "source": [
    "####  Southern Hemisphere - Wind Speed (mph) vs. Latitude Linear Regression"
   ]
  },
  {
   "cell_type": "code",
   "execution_count": 29,
   "metadata": {},
   "outputs": [
    {
     "name": "stdout",
     "output_type": "stream",
     "text": [
      "y = -0.12x + 4.85\n",
      "The r-squared is: 0.10176936752709828\n"
     ]
    },
    {
     "data": {
      "image/png": "[encoded data removed]",
      "text/plain": [
       "<Figure size 432x288 with 1 Axes>"
      ]
     },
     "metadata": {
      "needs_background": "light"
     },
     "output_type": "display_data"
    }
   ],
   "source": [
    "x_values = southern_hemisphere_df[\"Latitude\"]\n",
    "y_values = southern_hemisphere_df[\"Wind Speed\"]\n",
    "(slope, intercept, rvalue, pvalue, stderr) = linregress(x_values, y_values)\n",
    "regress_values = x_values * slope + intercept\n",
    "line_eq = \"y = \" + str(round(slope,2)) + \"x + \" + str(round(intercept,2))\n",
    "plt.scatter(x_values,y_values)\n",
    "plt.plot(x_values,regress_values,\"r-\")\n",
    "#plt.annotate(line_eq,xy=(-10,-20), xytext=(10,3),fontsize=15,color=\"red\")\n",
    "print(line_eq)\n",
    "plt.xlabel('Latitude')\n",
    "plt.ylabel('Wind Speed')\n",
    "print(f\"The r-squared is: {rvalue**2}\")\n",
    "plt.show()"
   ]
  },
  {
   "cell_type": "markdown",
   "metadata": {},
   "source": [
    "There is not a correlation between wind speed and latitude. The r-square value is very close to 0."
   ]
  },
  {
   "cell_type": "code",
   "execution_count": null,
   "metadata": {},
   "outputs": [],
   "source": []
  }
 ],
 "metadata": {
  "anaconda-cloud": {},
  "kernel_info": {
   "name": "python3"
  },
  "kernelspec": {
   "display_name": "Python 3",
   "language": "python",
   "name": "python3"
  },
  "language_info": {
   "codemirror_mode": {
    "name": "ipython",
    "version": 3
   },
   "file_extension": ".py",
   "mimetype": "text/x-python",
   "name": "python",
   "nbconvert_exporter": "python",
   "pygments_lexer": "ipython3",
   "version": "3.7.4"
  },
  "latex_envs": {
   "LaTeX_envs_menu_present": true,
   "autoclose": false,
   "autocomplete": true,
   "bibliofile": "biblio.bib",
   "cite_by": "apalike",
   "current_citInitial": 1,
   "eqLabelWithNumbers": true,
   "eqNumInitial": 1,
   "hotkeys": {
    "equation": "Ctrl-E",
    "itemize": "Ctrl-I"
   },
   "labels_anchors": false,
   "latex_user_defs": false,
   "report_style_numbering": false,
   "user_envs_cfg": false
  },
  "nteract": {
   "version": "0.12.3"
  }
 },
 "nbformat": 4,
 "nbformat_minor": 2
}
